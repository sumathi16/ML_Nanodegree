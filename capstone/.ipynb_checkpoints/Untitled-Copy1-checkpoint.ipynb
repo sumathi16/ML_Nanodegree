{
 "cells": [
  {
   "cell_type": "code",
   "execution_count": null,
   "metadata": {},
   "outputs": [],
   "source": [
    "import pandas as pd\n",
    "import matplotlib.pyplot as plt\n",
    "from sklearn.model_selection import train_test_split\n",
    "%matplotlib inline"
   ]
  },
  {
   "cell_type": "code",
   "execution_count": null,
   "metadata": {},
   "outputs": [],
   "source": [
    "data = pd.read_csv(\"fashion-mnist_train.csv\")\n",
    "test_data = pd.read_csv(\"fashion-mnist_test.csv\")\n",
    "\n",
    "print(data.head(1))\n",
    "print(test_data.head(1))\n",
    "\n",
    "outcomes = data[\"label\"]\n",
    "data = data.drop(\"label\",axis=1)\n",
    "test_outcomes = test_data[\"label\"]\n",
    "test_data = test_data.drop(\"label\",axis=1)\n",
    "\n",
    "print(data.head(1))\n",
    "print(outcomes.shape)\n"
   ]
  },
  {
   "cell_type": "code",
   "execution_count": null,
   "metadata": {},
   "outputs": [],
   "source": [
    "cat_outcomes=pd.DataFrame()\n",
    "for i in  range(10):\n",
    "    cat_outcomes[\"class_\"+str(i)] = [int(x==i) for x in outcomes]\n",
    "cat_outcomes[\"class_2\"][0]\n",
    "\n",
    "test_cat_outcomes=pd.DataFrame()\n",
    "for i in  range(10):\n",
    "    test_cat_outcomes[\"class_\"+str(i)] = [int(x==i) for x in test_outcomes]\n",
    "\n",
    "train_data,valid_data,train_outcomes,valid_outcomes = train_test_split(data,cat_outcomes,test_size=0.2,random_state=42 )\n",
    "print(train_data.shape)\n",
    "print(valid_outcomes.shape)\n",
    "print(test_data.shape)\n"
   ]
  },
  {
   "cell_type": "code",
   "execution_count": null,
   "metadata": {},
   "outputs": [],
   "source": [
    "# using binary relevance\n",
    "from skmultilearn.problem_transform import BinaryRelevance\n",
    "from sklearn.metrics import accuracy_score\n",
    "from sklearn.naive_bayes import GaussianNB\n",
    "from sklearn import tree\n",
    "\n",
    "\n",
    "def binary_model(model_name,data,cat_outcomes,test_data,test_cat_outcomes):\n",
    "    # initialize binary relevance multi-label classifier\n",
    "    # with a gaussian naive bayes base classifier\n",
    "    #classifier = BinaryRelevance(GaussianNB())\n",
    "    classifier = BinaryRelevance(model_name)\n",
    "\n",
    "    # train\n",
    "    classifier.fit(data,cat_outcomes)\n",
    "\n",
    "    # predict\n",
    "    predictions = classifier.predict(test_data)\n",
    "    \n",
    "    return accuracy_score(test_cat_outcomes,predictions)"
   ]
  },
  {
   "cell_type": "code",
   "execution_count": null,
   "metadata": {},
   "outputs": [],
   "source": [
    "print(\"Accuracy with BinaryReleavance Decission tree classifier:\",\n",
    "      binary_model(\"Decissiontreeclassifier()\",data,cat_outcomes,test_data,test_cat_outcomes))"
   ]
  }
 ],
 "metadata": {
  "kernelspec": {
   "display_name": "Python 3",
   "language": "python",
   "name": "python3"
  },
  "language_info": {
   "codemirror_mode": {
    "name": "ipython",
    "version": 3
   },
   "file_extension": ".py",
   "mimetype": "text/x-python",
   "name": "python",
   "nbconvert_exporter": "python",
   "pygments_lexer": "ipython3",
   "version": "3.6.5"
  }
 },
 "nbformat": 4,
 "nbformat_minor": 2
}
